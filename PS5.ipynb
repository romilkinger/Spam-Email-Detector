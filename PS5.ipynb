{
 "cells": [
  {
   "cell_type": "markdown",
   "id": "c25f08c5",
   "metadata": {},
   "source": [
    "# Bayes-Theorem based Spam Filter"
   ]
  },
  {
   "cell_type": "markdown",
   "id": "36fa6995",
   "metadata": {},
   "source": [
    "# Info 371"
   ]
  },
  {
   "cell_type": "code",
   "execution_count": 322,
   "id": "435a70af",
   "metadata": {},
   "outputs": [],
   "source": [
    "import numpy as np\n",
    "import pandas as pd\n",
    "import matplotlib.pyplot as plt\n",
    "from sklearn.model_selection import train_test_split"
   ]
  },
  {
   "cell_type": "markdown",
   "id": "dcac4db4",
   "metadata": {},
   "source": [
    "## 1 (5pt) Explore and clean the data"
   ]
  },
  {
   "cell_type": "markdown",
   "id": "3dfd3445",
   "metadata": {},
   "source": [
    "1. (2pt) Load the lingspam-emails.csv.bz2 dataset.\n",
    "Browse a handful of emails, both spam and non-spam ones, to see what kind of text we are working\n",
    "with here.\n",
    "\n",
    "\n",
    "Hint: check out textwrap module to print long strings on multiple lines."
   ]
  },
  {
   "cell_type": "code",
   "execution_count": 13,
   "id": "06f2de92",
   "metadata": {},
   "outputs": [
    {
     "data": {
      "text/html": [
       "<div>\n",
       "<style scoped>\n",
       "    .dataframe tbody tr th:only-of-type {\n",
       "        vertical-align: middle;\n",
       "    }\n",
       "\n",
       "    .dataframe tbody tr th {\n",
       "        vertical-align: top;\n",
       "    }\n",
       "\n",
       "    .dataframe thead th {\n",
       "        text-align: right;\n",
       "    }\n",
       "</style>\n",
       "<table border=\"1\" class=\"dataframe\">\n",
       "  <thead>\n",
       "    <tr style=\"text-align: right;\">\n",
       "      <th></th>\n",
       "      <th>spam</th>\n",
       "      <th>files</th>\n",
       "      <th>message</th>\n",
       "    </tr>\n",
       "  </thead>\n",
       "  <tbody>\n",
       "    <tr>\n",
       "      <th>0</th>\n",
       "      <td>False</td>\n",
       "      <td>3-1msg1.txt</td>\n",
       "      <td>Subject: re : 2 . 882 s - &gt; np np  &gt; date : su...</td>\n",
       "    </tr>\n",
       "    <tr>\n",
       "      <th>1</th>\n",
       "      <td>False</td>\n",
       "      <td>3-1msg2.txt</td>\n",
       "      <td>Subject: s - &gt; np + np  the discussion of s - ...</td>\n",
       "    </tr>\n",
       "    <tr>\n",
       "      <th>2</th>\n",
       "      <td>False</td>\n",
       "      <td>3-1msg3.txt</td>\n",
       "      <td>Subject: 2 . 882 s - &gt; np np  . . . for me it ...</td>\n",
       "    </tr>\n",
       "    <tr>\n",
       "      <th>3</th>\n",
       "      <td>False</td>\n",
       "      <td>3-375msg1.txt</td>\n",
       "      <td>Subject: gent conference  \" for the listserv \"...</td>\n",
       "    </tr>\n",
       "    <tr>\n",
       "      <th>4</th>\n",
       "      <td>False</td>\n",
       "      <td>3-378msg1.txt</td>\n",
       "      <td>Subject: query : causatives in korean  could a...</td>\n",
       "    </tr>\n",
       "  </tbody>\n",
       "</table>\n",
       "</div>"
      ],
      "text/plain": [
       "    spam          files                                            message\n",
       "0  False    3-1msg1.txt  Subject: re : 2 . 882 s - > np np  > date : su...\n",
       "1  False    3-1msg2.txt  Subject: s - > np + np  the discussion of s - ...\n",
       "2  False    3-1msg3.txt  Subject: 2 . 882 s - > np np  . . . for me it ...\n",
       "3  False  3-375msg1.txt  Subject: gent conference  \" for the listserv \"...\n",
       "4  False  3-378msg1.txt  Subject: query : causatives in korean  could a..."
      ]
     },
     "execution_count": 13,
     "metadata": {},
     "output_type": "execute_result"
    }
   ],
   "source": [
    "emails = pd.read_csv('/Users/romilkinger/Downloads/lingspam-emails.csv.bz2', sep='\\t')\n",
    "emails.head()"
   ]
  },
  {
   "cell_type": "code",
   "execution_count": 14,
   "id": "77b7e4d4",
   "metadata": {},
   "outputs": [
    {
     "data": {
      "text/plain": [
       "0       Subject: re : 2 . 882 s - > np np  > date : su...\n",
       "1       Subject: s - > np + np  the discussion of s - ...\n",
       "2       Subject: 2 . 882 s - > np np  . . . for me it ...\n",
       "3       Subject: gent conference  \" for the listserv \"...\n",
       "4       Subject: query : causatives in korean  could a...\n",
       "                              ...                        \n",
       "2888    Subject: .  international driver ' s license n...\n",
       "2889    Subject: new on 95 . 8 capital fm  this is new...\n",
       "2890    Subject: re : new medical technology  company ...\n",
       "2891    Subject: re : your request for an overview  ye...\n",
       "2892    Subject: new on capital fm  this is new at htt...\n",
       "Name: message, Length: 2893, dtype: object"
      ]
     },
     "execution_count": 14,
     "metadata": {},
     "output_type": "execute_result"
    }
   ],
   "source": [
    "emails.message"
   ]
  },
  {
   "cell_type": "code",
   "execution_count": 16,
   "id": "a2d64801",
   "metadata": {},
   "outputs": [],
   "source": [
    "import textwrap"
   ]
  },
  {
   "cell_type": "code",
   "execution_count": 26,
   "id": "55830400",
   "metadata": {},
   "outputs": [
    {
     "name": "stdout",
     "output_type": "stream",
     "text": [
      "Subject: re : 2 . 882 s - > np np  > date : sun ,\n",
      "15 dec 91 02 : 25 : 02 est > from : michael <\n",
      "mmorse @ vm1 . yorku . ca > > subject : re : 2 .\n",
      "864 queries > > wlodek zadrozny asks if there is \"\n",
      "anything interesting \" to be said > about the\n",
      "construction \" s > np np \" . . . second , > and\n",
      "very much related : might we consider the\n",
      "construction to be a form > of what has been\n",
      "discussed on this list of late as reduplication ?\n",
      "the > logical sense of \" john mcnamara the name \"\n",
      "is tautologous and thus , at > that level ,\n",
      "indistinguishable from \" well , well now , what\n",
      "have we here ? \" . to say that ' john mcnamara the\n",
      "name ' is tautologous is to give support to those\n",
      "who say that a logic-based semantics is irrelevant\n",
      "to natural language . in what sense is it\n",
      "tautologous ? it supplies the value of an\n",
      "attribute followed by the attribute of which it is\n",
      "the value . if in fact the value of the name-\n",
      "attribute for the relevant entity were ' chaim\n",
      "shmendrik ' , ' john mcnamara the name ' would be\n",
      "false . no tautology , this . ( and no\n",
      "reduplication , either . )\n"
     ]
    }
   ],
   "source": [
    "wrapper = textwrap.TextWrapper(width=50)\n",
    "word_list = wrapper.wrap(text=emails.message[0])\n",
    "\n",
    "#Print each line.\n",
    "for element in word_list:\n",
    "    print(element)"
   ]
  },
  {
   "cell_type": "markdown",
   "id": "fd9c4a7e",
   "metadata": {},
   "source": [
    "2. (3pt) Ensure the data is clean: remove all cases with missing spam and empty message field. We do not care about the file names"
   ]
  },
  {
   "cell_type": "code",
   "execution_count": 47,
   "id": "7a90cc56",
   "metadata": {},
   "outputs": [
    {
     "data": {
      "text/plain": [
       "spam       0\n",
       "files      0\n",
       "message    0\n",
       "dtype: int64"
      ]
     },
     "execution_count": 47,
     "metadata": {},
     "output_type": "execute_result"
    }
   ],
   "source": [
    "emails.eq('').sum()"
   ]
  },
  {
   "cell_type": "code",
   "execution_count": 48,
   "id": "b73d2e7c",
   "metadata": {},
   "outputs": [
    {
     "data": {
      "text/plain": [
       "spam       0\n",
       "files      0\n",
       "message    0\n",
       "dtype: int64"
      ]
     },
     "execution_count": 48,
     "metadata": {},
     "output_type": "execute_result"
    }
   ],
   "source": [
    "emails.isna().sum()"
   ]
  },
  {
   "cell_type": "code",
   "execution_count": 52,
   "id": "2f48ea29",
   "metadata": {},
   "outputs": [
    {
     "data": {
      "text/plain": [
       "False    2412\n",
       "True      481\n",
       "Name: spam, dtype: int64"
      ]
     },
     "execution_count": 52,
     "metadata": {},
     "output_type": "execute_result"
    }
   ],
   "source": [
    "emails.spam.value_counts()"
   ]
  },
  {
   "cell_type": "code",
   "execution_count": 54,
   "id": "130856da",
   "metadata": {},
   "outputs": [
    {
     "data": {
      "text/plain": [
       "(2893, 3)"
      ]
     },
     "execution_count": 54,
     "metadata": {},
     "output_type": "execute_result"
    }
   ],
   "source": [
    "emails.shape"
   ]
  },
  {
   "cell_type": "code",
   "execution_count": 55,
   "id": "6375737a",
   "metadata": {},
   "outputs": [
    {
     "data": {
      "text/plain": [
       "2893"
      ]
     },
     "execution_count": 55,
     "metadata": {},
     "output_type": "execute_result"
    }
   ],
   "source": [
    "2412+481"
   ]
  },
  {
   "cell_type": "markdown",
   "id": "7f5a5a72",
   "metadata": {},
   "source": [
    "## 2. (15pt) Create Document-term matrix (DTM)"
   ]
  },
  {
   "cell_type": "markdown",
   "id": "feb71824",
   "metadata": {},
   "source": [
    "1. (2pt) Choose ∼ 10 words which might be good to distinguish between spam/non-spam. Use these four: viagra, deadline, million, and and. Choose more words yourself (you may want to return here and reconsider your choice later)."
   ]
  },
  {
   "cell_type": "code",
   "execution_count": 62,
   "id": "ad0f4453",
   "metadata": {},
   "outputs": [],
   "source": [
    "list_of_words = ['viagra', 'deadline', 'million', 'and', 'congratulations', 'winner', 'lucky', 'draw', 'money', 'scholarship']"
   ]
  },
  {
   "cell_type": "markdown",
   "id": "aa40d50e",
   "metadata": {},
   "source": [
    "2.\n",
    "(10pt) Convert your messages into DTM. We do not use the full 60k-words DTM here but only a baby-DTM of the 10 words you picked above. You may add the DTM columns to the original data frame, or keep those in a separate structure.\n",
    "\n",
    "\n",
    "Creating the DTM involves finding whether the word is contained in the message for all emails in data. You can loop over emails and check each one individually, but pandas string methods make life much easier. \n",
    "\n",
    "You will want to do case-insensitive matching, checking for both upper and lower case. \n",
    "\n",
    "It is more intuitive to work with your data if you convert the logical values returned by contains to numbers."
   ]
  },
  {
   "cell_type": "code",
   "execution_count": 63,
   "id": "4e151838",
   "metadata": {},
   "outputs": [],
   "source": [
    "dtm = pd.DataFrame()"
   ]
  },
  {
   "cell_type": "code",
   "execution_count": 68,
   "id": "810871bd",
   "metadata": {},
   "outputs": [],
   "source": [
    "for w in list_of_words:\n",
    "    dtm[w] = emails.message.str.lower().str.contains(w) + 0"
   ]
  },
  {
   "cell_type": "code",
   "execution_count": 78,
   "id": "2ec8ceac",
   "metadata": {},
   "outputs": [
    {
     "data": {
      "text/html": [
       "<div>\n",
       "<style scoped>\n",
       "    .dataframe tbody tr th:only-of-type {\n",
       "        vertical-align: middle;\n",
       "    }\n",
       "\n",
       "    .dataframe tbody tr th {\n",
       "        vertical-align: top;\n",
       "    }\n",
       "\n",
       "    .dataframe thead th {\n",
       "        text-align: right;\n",
       "    }\n",
       "</style>\n",
       "<table border=\"1\" class=\"dataframe\">\n",
       "  <thead>\n",
       "    <tr style=\"text-align: right;\">\n",
       "      <th></th>\n",
       "      <th>viagra</th>\n",
       "      <th>deadline</th>\n",
       "      <th>million</th>\n",
       "      <th>and</th>\n",
       "      <th>congratulations</th>\n",
       "      <th>winner</th>\n",
       "      <th>lucky</th>\n",
       "      <th>draw</th>\n",
       "      <th>money</th>\n",
       "      <th>scholarship</th>\n",
       "    </tr>\n",
       "  </thead>\n",
       "  <tbody>\n",
       "    <tr>\n",
       "      <th>0</th>\n",
       "      <td>0</td>\n",
       "      <td>0</td>\n",
       "      <td>0</td>\n",
       "      <td>1</td>\n",
       "      <td>0</td>\n",
       "      <td>0</td>\n",
       "      <td>0</td>\n",
       "      <td>0</td>\n",
       "      <td>0</td>\n",
       "      <td>0</td>\n",
       "    </tr>\n",
       "    <tr>\n",
       "      <th>1</th>\n",
       "      <td>0</td>\n",
       "      <td>0</td>\n",
       "      <td>0</td>\n",
       "      <td>0</td>\n",
       "      <td>0</td>\n",
       "      <td>0</td>\n",
       "      <td>0</td>\n",
       "      <td>0</td>\n",
       "      <td>0</td>\n",
       "      <td>0</td>\n",
       "    </tr>\n",
       "    <tr>\n",
       "      <th>2</th>\n",
       "      <td>0</td>\n",
       "      <td>0</td>\n",
       "      <td>0</td>\n",
       "      <td>0</td>\n",
       "      <td>0</td>\n",
       "      <td>0</td>\n",
       "      <td>0</td>\n",
       "      <td>0</td>\n",
       "      <td>0</td>\n",
       "      <td>0</td>\n",
       "    </tr>\n",
       "    <tr>\n",
       "      <th>3</th>\n",
       "      <td>0</td>\n",
       "      <td>0</td>\n",
       "      <td>0</td>\n",
       "      <td>1</td>\n",
       "      <td>0</td>\n",
       "      <td>0</td>\n",
       "      <td>0</td>\n",
       "      <td>0</td>\n",
       "      <td>1</td>\n",
       "      <td>0</td>\n",
       "    </tr>\n",
       "    <tr>\n",
       "      <th>4</th>\n",
       "      <td>0</td>\n",
       "      <td>0</td>\n",
       "      <td>0</td>\n",
       "      <td>1</td>\n",
       "      <td>0</td>\n",
       "      <td>0</td>\n",
       "      <td>0</td>\n",
       "      <td>0</td>\n",
       "      <td>0</td>\n",
       "      <td>0</td>\n",
       "    </tr>\n",
       "  </tbody>\n",
       "</table>\n",
       "</div>"
      ],
      "text/plain": [
       "   viagra  deadline  million  and  congratulations  winner  lucky  draw  \\\n",
       "0       0         0        0    1                0       0      0     0   \n",
       "1       0         0        0    0                0       0      0     0   \n",
       "2       0         0        0    0                0       0      0     0   \n",
       "3       0         0        0    1                0       0      0     0   \n",
       "4       0         0        0    1                0       0      0     0   \n",
       "\n",
       "   money  scholarship  \n",
       "0      0            0  \n",
       "1      0            0  \n",
       "2      0            0  \n",
       "3      1            0  \n",
       "4      0            0  "
      ]
     },
     "execution_count": 78,
     "metadata": {},
     "output_type": "execute_result"
    }
   ],
   "source": [
    "dtm.head()"
   ]
  },
  {
   "cell_type": "markdown",
   "id": "3160168c",
   "metadata": {},
   "source": [
    "3. (3pt) Split your work data (i.e. the DTM) and target (the spam indicator) into training and validation chunks (80/20 is a good split)."
   ]
  },
  {
   "cell_type": "code",
   "execution_count": 81,
   "id": "e473b785",
   "metadata": {},
   "outputs": [],
   "source": [
    "X = dtm\n",
    "y = emails.spam + 0\n",
    "X_train, X_test, y_train, y_test = train_test_split(X, y, test_size=0.20)"
   ]
  },
  {
   "cell_type": "code",
   "execution_count": 82,
   "id": "1a69e99a",
   "metadata": {},
   "outputs": [
    {
     "data": {
      "text/html": [
       "<div>\n",
       "<style scoped>\n",
       "    .dataframe tbody tr th:only-of-type {\n",
       "        vertical-align: middle;\n",
       "    }\n",
       "\n",
       "    .dataframe tbody tr th {\n",
       "        vertical-align: top;\n",
       "    }\n",
       "\n",
       "    .dataframe thead th {\n",
       "        text-align: right;\n",
       "    }\n",
       "</style>\n",
       "<table border=\"1\" class=\"dataframe\">\n",
       "  <thead>\n",
       "    <tr style=\"text-align: right;\">\n",
       "      <th></th>\n",
       "      <th>viagra</th>\n",
       "      <th>deadline</th>\n",
       "      <th>million</th>\n",
       "      <th>and</th>\n",
       "      <th>congratulations</th>\n",
       "      <th>winner</th>\n",
       "      <th>lucky</th>\n",
       "      <th>draw</th>\n",
       "      <th>money</th>\n",
       "      <th>scholarship</th>\n",
       "    </tr>\n",
       "  </thead>\n",
       "  <tbody>\n",
       "    <tr>\n",
       "      <th>1509</th>\n",
       "      <td>0</td>\n",
       "      <td>0</td>\n",
       "      <td>0</td>\n",
       "      <td>1</td>\n",
       "      <td>0</td>\n",
       "      <td>0</td>\n",
       "      <td>0</td>\n",
       "      <td>0</td>\n",
       "      <td>0</td>\n",
       "      <td>0</td>\n",
       "    </tr>\n",
       "    <tr>\n",
       "      <th>1885</th>\n",
       "      <td>0</td>\n",
       "      <td>1</td>\n",
       "      <td>0</td>\n",
       "      <td>1</td>\n",
       "      <td>0</td>\n",
       "      <td>0</td>\n",
       "      <td>0</td>\n",
       "      <td>0</td>\n",
       "      <td>0</td>\n",
       "      <td>0</td>\n",
       "    </tr>\n",
       "    <tr>\n",
       "      <th>1154</th>\n",
       "      <td>0</td>\n",
       "      <td>0</td>\n",
       "      <td>0</td>\n",
       "      <td>1</td>\n",
       "      <td>0</td>\n",
       "      <td>0</td>\n",
       "      <td>0</td>\n",
       "      <td>0</td>\n",
       "      <td>0</td>\n",
       "      <td>0</td>\n",
       "    </tr>\n",
       "    <tr>\n",
       "      <th>2016</th>\n",
       "      <td>0</td>\n",
       "      <td>0</td>\n",
       "      <td>0</td>\n",
       "      <td>1</td>\n",
       "      <td>0</td>\n",
       "      <td>0</td>\n",
       "      <td>0</td>\n",
       "      <td>0</td>\n",
       "      <td>1</td>\n",
       "      <td>0</td>\n",
       "    </tr>\n",
       "    <tr>\n",
       "      <th>1603</th>\n",
       "      <td>0</td>\n",
       "      <td>0</td>\n",
       "      <td>0</td>\n",
       "      <td>1</td>\n",
       "      <td>0</td>\n",
       "      <td>0</td>\n",
       "      <td>0</td>\n",
       "      <td>0</td>\n",
       "      <td>0</td>\n",
       "      <td>0</td>\n",
       "    </tr>\n",
       "  </tbody>\n",
       "</table>\n",
       "</div>"
      ],
      "text/plain": [
       "      viagra  deadline  million  and  congratulations  winner  lucky  draw  \\\n",
       "1509       0         0        0    1                0       0      0     0   \n",
       "1885       0         1        0    1                0       0      0     0   \n",
       "1154       0         0        0    1                0       0      0     0   \n",
       "2016       0         0        0    1                0       0      0     0   \n",
       "1603       0         0        0    1                0       0      0     0   \n",
       "\n",
       "      money  scholarship  \n",
       "1509      0            0  \n",
       "1885      0            0  \n",
       "1154      0            0  \n",
       "2016      1            0  \n",
       "1603      0            0  "
      ]
     },
     "execution_count": 82,
     "metadata": {},
     "output_type": "execute_result"
    }
   ],
   "source": [
    "X_train.head()"
   ]
  },
  {
   "cell_type": "code",
   "execution_count": 83,
   "id": "4dad59f7",
   "metadata": {},
   "outputs": [
    {
     "data": {
      "text/html": [
       "<div>\n",
       "<style scoped>\n",
       "    .dataframe tbody tr th:only-of-type {\n",
       "        vertical-align: middle;\n",
       "    }\n",
       "\n",
       "    .dataframe tbody tr th {\n",
       "        vertical-align: top;\n",
       "    }\n",
       "\n",
       "    .dataframe thead th {\n",
       "        text-align: right;\n",
       "    }\n",
       "</style>\n",
       "<table border=\"1\" class=\"dataframe\">\n",
       "  <thead>\n",
       "    <tr style=\"text-align: right;\">\n",
       "      <th></th>\n",
       "      <th>viagra</th>\n",
       "      <th>deadline</th>\n",
       "      <th>million</th>\n",
       "      <th>and</th>\n",
       "      <th>congratulations</th>\n",
       "      <th>winner</th>\n",
       "      <th>lucky</th>\n",
       "      <th>draw</th>\n",
       "      <th>money</th>\n",
       "      <th>scholarship</th>\n",
       "    </tr>\n",
       "  </thead>\n",
       "  <tbody>\n",
       "    <tr>\n",
       "      <th>1515</th>\n",
       "      <td>0</td>\n",
       "      <td>1</td>\n",
       "      <td>0</td>\n",
       "      <td>1</td>\n",
       "      <td>0</td>\n",
       "      <td>0</td>\n",
       "      <td>0</td>\n",
       "      <td>0</td>\n",
       "      <td>0</td>\n",
       "      <td>0</td>\n",
       "    </tr>\n",
       "    <tr>\n",
       "      <th>1396</th>\n",
       "      <td>0</td>\n",
       "      <td>0</td>\n",
       "      <td>0</td>\n",
       "      <td>1</td>\n",
       "      <td>0</td>\n",
       "      <td>0</td>\n",
       "      <td>0</td>\n",
       "      <td>0</td>\n",
       "      <td>0</td>\n",
       "      <td>0</td>\n",
       "    </tr>\n",
       "    <tr>\n",
       "      <th>2131</th>\n",
       "      <td>0</td>\n",
       "      <td>0</td>\n",
       "      <td>0</td>\n",
       "      <td>1</td>\n",
       "      <td>0</td>\n",
       "      <td>0</td>\n",
       "      <td>0</td>\n",
       "      <td>0</td>\n",
       "      <td>0</td>\n",
       "      <td>0</td>\n",
       "    </tr>\n",
       "    <tr>\n",
       "      <th>2170</th>\n",
       "      <td>0</td>\n",
       "      <td>1</td>\n",
       "      <td>0</td>\n",
       "      <td>1</td>\n",
       "      <td>0</td>\n",
       "      <td>0</td>\n",
       "      <td>0</td>\n",
       "      <td>0</td>\n",
       "      <td>0</td>\n",
       "      <td>0</td>\n",
       "    </tr>\n",
       "    <tr>\n",
       "      <th>2192</th>\n",
       "      <td>0</td>\n",
       "      <td>1</td>\n",
       "      <td>0</td>\n",
       "      <td>1</td>\n",
       "      <td>0</td>\n",
       "      <td>0</td>\n",
       "      <td>0</td>\n",
       "      <td>0</td>\n",
       "      <td>0</td>\n",
       "      <td>0</td>\n",
       "    </tr>\n",
       "  </tbody>\n",
       "</table>\n",
       "</div>"
      ],
      "text/plain": [
       "      viagra  deadline  million  and  congratulations  winner  lucky  draw  \\\n",
       "1515       0         1        0    1                0       0      0     0   \n",
       "1396       0         0        0    1                0       0      0     0   \n",
       "2131       0         0        0    1                0       0      0     0   \n",
       "2170       0         1        0    1                0       0      0     0   \n",
       "2192       0         1        0    1                0       0      0     0   \n",
       "\n",
       "      money  scholarship  \n",
       "1515      0            0  \n",
       "1396      0            0  \n",
       "2131      0            0  \n",
       "2170      0            0  \n",
       "2192      0            0  "
      ]
     },
     "execution_count": 83,
     "metadata": {},
     "output_type": "execute_result"
    }
   ],
   "source": [
    "X_test.head()"
   ]
  },
  {
   "cell_type": "code",
   "execution_count": 84,
   "id": "d06a6ef9",
   "metadata": {},
   "outputs": [
    {
     "data": {
      "text/plain": [
       "1509    0\n",
       "1885    0\n",
       "1154    1\n",
       "2016    1\n",
       "1603    0\n",
       "       ..\n",
       "502     0\n",
       "2144    0\n",
       "552     1\n",
       "141     0\n",
       "2825    0\n",
       "Name: spam, Length: 2314, dtype: int64"
      ]
     },
     "execution_count": 84,
     "metadata": {},
     "output_type": "execute_result"
    }
   ],
   "source": [
    "y_train"
   ]
  },
  {
   "cell_type": "markdown",
   "id": "6d744b2f",
   "metadata": {},
   "source": [
    "## 3. (80pt) Estimate and validate"
   ]
  },
  {
   "cell_type": "markdown",
   "id": "f5c46e0a",
   "metadata": {},
   "source": [
    "1. (2pt) Design a scheme for your variable names that describes these probabilities so that a) you understand what they mean; and b) the others (including your grader) will understand those!"
   ]
  },
  {
   "cell_type": "markdown",
   "id": "2e9c6e65",
   "metadata": {},
   "source": [
    "pr_s1, pr_s0, pr_w1, pr_w0, pr_w1s1, prw0s1, pr_w1s0, pr_w0s1 "
   ]
  },
  {
   "cell_type": "markdown",
   "id": "15e67232",
   "metadata": {},
   "source": [
    "2. (4pt) Compute the priors, the unconditional probabilities for an email being spam and non-spam, Pr(category = S) and Pr(category = NS). These probabilities are based on the spam variable alone, not on the text."
   ]
  },
  {
   "cell_type": "code",
   "execution_count": 87,
   "id": "27fcdc5d",
   "metadata": {},
   "outputs": [
    {
     "data": {
      "text/plain": [
       "0.16421780466724287"
      ]
     },
     "execution_count": 87,
     "metadata": {},
     "output_type": "execute_result"
    }
   ],
   "source": [
    "pr_s1 = (y_train == 1).mean()\n",
    "pr_s1"
   ]
  },
  {
   "cell_type": "code",
   "execution_count": 89,
   "id": "827ec0df",
   "metadata": {},
   "outputs": [
    {
     "data": {
      "text/plain": [
       "0.8357821953327571"
      ]
     },
     "execution_count": 89,
     "metadata": {},
     "output_type": "execute_result"
    }
   ],
   "source": [
    "pr_s0 = (y_train == 0).mean()\n",
    "pr_s0"
   ]
  },
  {
   "cell_type": "code",
   "execution_count": 90,
   "id": "d9e993f4",
   "metadata": {},
   "outputs": [
    {
     "data": {
      "text/plain": [
       "1.0"
      ]
     },
     "execution_count": 90,
     "metadata": {},
     "output_type": "execute_result"
    }
   ],
   "source": [
    "pr_s1 + pr_s0"
   ]
  },
  {
   "cell_type": "markdown",
   "id": "fb85eb1e",
   "metadata": {},
   "source": [
    "3. (4pt) For each word w, compute the normalizers, Pr(w = 1) and Pr(w = 0).\n",
    "Hint: this is Pr(million = 1) = 0.0484. But note this value (and the following hints) depends on\n",
    "your random training/validation split!\n"
   ]
  },
  {
   "cell_type": "code",
   "execution_count": 253,
   "id": "77894b50",
   "metadata": {},
   "outputs": [],
   "source": [
    "prob_words = pd.DataFrame()\n",
    "prob_words['pr_w1'] = ''"
   ]
  },
  {
   "cell_type": "code",
   "execution_count": 254,
   "id": "2ce2446e",
   "metadata": {},
   "outputs": [],
   "source": [
    "for w in X_train:\n",
    "    prob_words.loc[w] = ((X_train[w] == 1).mean())"
   ]
  },
  {
   "cell_type": "code",
   "execution_count": 255,
   "id": "9756db7f",
   "metadata": {},
   "outputs": [
    {
     "data": {
      "text/html": [
       "<div>\n",
       "<style scoped>\n",
       "    .dataframe tbody tr th:only-of-type {\n",
       "        vertical-align: middle;\n",
       "    }\n",
       "\n",
       "    .dataframe tbody tr th {\n",
       "        vertical-align: top;\n",
       "    }\n",
       "\n",
       "    .dataframe thead th {\n",
       "        text-align: right;\n",
       "    }\n",
       "</style>\n",
       "<table border=\"1\" class=\"dataframe\">\n",
       "  <thead>\n",
       "    <tr style=\"text-align: right;\">\n",
       "      <th></th>\n",
       "      <th>pr_w1</th>\n",
       "    </tr>\n",
       "  </thead>\n",
       "  <tbody>\n",
       "    <tr>\n",
       "      <th>viagra</th>\n",
       "      <td>0.000432</td>\n",
       "    </tr>\n",
       "    <tr>\n",
       "      <th>deadline</th>\n",
       "      <td>0.149957</td>\n",
       "    </tr>\n",
       "    <tr>\n",
       "      <th>million</th>\n",
       "      <td>0.047537</td>\n",
       "    </tr>\n",
       "    <tr>\n",
       "      <th>and</th>\n",
       "      <td>0.942956</td>\n",
       "    </tr>\n",
       "    <tr>\n",
       "      <th>congratulations</th>\n",
       "      <td>0.002161</td>\n",
       "    </tr>\n",
       "    <tr>\n",
       "      <th>winner</th>\n",
       "      <td>0.009507</td>\n",
       "    </tr>\n",
       "    <tr>\n",
       "      <th>lucky</th>\n",
       "      <td>0.010804</td>\n",
       "    </tr>\n",
       "    <tr>\n",
       "      <th>draw</th>\n",
       "      <td>0.044944</td>\n",
       "    </tr>\n",
       "    <tr>\n",
       "      <th>money</th>\n",
       "      <td>0.082541</td>\n",
       "    </tr>\n",
       "    <tr>\n",
       "      <th>scholarship</th>\n",
       "      <td>0.008643</td>\n",
       "    </tr>\n",
       "  </tbody>\n",
       "</table>\n",
       "</div>"
      ],
      "text/plain": [
       "                    pr_w1\n",
       "viagra           0.000432\n",
       "deadline         0.149957\n",
       "million          0.047537\n",
       "and              0.942956\n",
       "congratulations  0.002161\n",
       "winner           0.009507\n",
       "lucky            0.010804\n",
       "draw             0.044944\n",
       "money            0.082541\n",
       "scholarship      0.008643"
      ]
     },
     "execution_count": 255,
     "metadata": {},
     "output_type": "execute_result"
    }
   ],
   "source": [
    "prob_words"
   ]
  },
  {
   "cell_type": "code",
   "execution_count": 256,
   "id": "e3566947",
   "metadata": {},
   "outputs": [
    {
     "data": {
      "text/html": [
       "<div>\n",
       "<style scoped>\n",
       "    .dataframe tbody tr th:only-of-type {\n",
       "        vertical-align: middle;\n",
       "    }\n",
       "\n",
       "    .dataframe tbody tr th {\n",
       "        vertical-align: top;\n",
       "    }\n",
       "\n",
       "    .dataframe thead th {\n",
       "        text-align: right;\n",
       "    }\n",
       "</style>\n",
       "<table border=\"1\" class=\"dataframe\">\n",
       "  <thead>\n",
       "    <tr style=\"text-align: right;\">\n",
       "      <th></th>\n",
       "      <th>pr_w1</th>\n",
       "      <th>pr_w0</th>\n",
       "    </tr>\n",
       "  </thead>\n",
       "  <tbody>\n",
       "    <tr>\n",
       "      <th>viagra</th>\n",
       "      <td>0.000432</td>\n",
       "      <td>0.999568</td>\n",
       "    </tr>\n",
       "    <tr>\n",
       "      <th>deadline</th>\n",
       "      <td>0.149957</td>\n",
       "      <td>0.850043</td>\n",
       "    </tr>\n",
       "    <tr>\n",
       "      <th>million</th>\n",
       "      <td>0.047537</td>\n",
       "      <td>0.952463</td>\n",
       "    </tr>\n",
       "    <tr>\n",
       "      <th>and</th>\n",
       "      <td>0.942956</td>\n",
       "      <td>0.057044</td>\n",
       "    </tr>\n",
       "    <tr>\n",
       "      <th>congratulations</th>\n",
       "      <td>0.002161</td>\n",
       "      <td>0.997839</td>\n",
       "    </tr>\n",
       "    <tr>\n",
       "      <th>winner</th>\n",
       "      <td>0.009507</td>\n",
       "      <td>0.990493</td>\n",
       "    </tr>\n",
       "    <tr>\n",
       "      <th>lucky</th>\n",
       "      <td>0.010804</td>\n",
       "      <td>0.989196</td>\n",
       "    </tr>\n",
       "    <tr>\n",
       "      <th>draw</th>\n",
       "      <td>0.044944</td>\n",
       "      <td>0.955056</td>\n",
       "    </tr>\n",
       "    <tr>\n",
       "      <th>money</th>\n",
       "      <td>0.082541</td>\n",
       "      <td>0.917459</td>\n",
       "    </tr>\n",
       "    <tr>\n",
       "      <th>scholarship</th>\n",
       "      <td>0.008643</td>\n",
       "      <td>0.991357</td>\n",
       "    </tr>\n",
       "  </tbody>\n",
       "</table>\n",
       "</div>"
      ],
      "text/plain": [
       "                    pr_w1     pr_w0\n",
       "viagra           0.000432  0.999568\n",
       "deadline         0.149957  0.850043\n",
       "million          0.047537  0.952463\n",
       "and              0.942956  0.057044\n",
       "congratulations  0.002161  0.997839\n",
       "winner           0.009507  0.990493\n",
       "lucky            0.010804  0.989196\n",
       "draw             0.044944  0.955056\n",
       "money            0.082541  0.917459\n",
       "scholarship      0.008643  0.991357"
      ]
     },
     "execution_count": 256,
     "metadata": {},
     "output_type": "execute_result"
    }
   ],
   "source": [
    "prob_words['pr_w0'] = ''\n",
    "for w in X_train:\n",
    "    prob_words.loc[[w],['pr_w0']] = ((X_train[w] == 0).mean())\n",
    "prob_words"
   ]
  },
  {
   "cell_type": "markdown",
   "id": "e8aff852",
   "metadata": {},
   "source": [
    "4. (7pt) For each word w, compute Pr(w = 1|category = S) and Pr(w = 1|category = NS). These probabilities are based on both the spam-variable and on the DTM component that corresponds to the word w.\n",
    "Hint: Pr(million = 1|category = S) = 0.252\n"
   ]
  },
  {
   "cell_type": "code",
   "execution_count": 257,
   "id": "297dc585",
   "metadata": {},
   "outputs": [
    {
     "data": {
      "text/html": [
       "<div>\n",
       "<style scoped>\n",
       "    .dataframe tbody tr th:only-of-type {\n",
       "        vertical-align: middle;\n",
       "    }\n",
       "\n",
       "    .dataframe tbody tr th {\n",
       "        vertical-align: top;\n",
       "    }\n",
       "\n",
       "    .dataframe thead th {\n",
       "        text-align: right;\n",
       "    }\n",
       "</style>\n",
       "<table border=\"1\" class=\"dataframe\">\n",
       "  <thead>\n",
       "    <tr style=\"text-align: right;\">\n",
       "      <th></th>\n",
       "      <th>viagra</th>\n",
       "      <th>deadline</th>\n",
       "      <th>million</th>\n",
       "      <th>and</th>\n",
       "      <th>congratulations</th>\n",
       "      <th>winner</th>\n",
       "      <th>lucky</th>\n",
       "      <th>draw</th>\n",
       "      <th>money</th>\n",
       "      <th>scholarship</th>\n",
       "      <th>spam</th>\n",
       "    </tr>\n",
       "  </thead>\n",
       "  <tbody>\n",
       "    <tr>\n",
       "      <th>1509</th>\n",
       "      <td>0</td>\n",
       "      <td>0</td>\n",
       "      <td>0</td>\n",
       "      <td>1</td>\n",
       "      <td>0</td>\n",
       "      <td>0</td>\n",
       "      <td>0</td>\n",
       "      <td>0</td>\n",
       "      <td>0</td>\n",
       "      <td>0</td>\n",
       "      <td>0</td>\n",
       "    </tr>\n",
       "    <tr>\n",
       "      <th>1885</th>\n",
       "      <td>0</td>\n",
       "      <td>1</td>\n",
       "      <td>0</td>\n",
       "      <td>1</td>\n",
       "      <td>0</td>\n",
       "      <td>0</td>\n",
       "      <td>0</td>\n",
       "      <td>0</td>\n",
       "      <td>0</td>\n",
       "      <td>0</td>\n",
       "      <td>0</td>\n",
       "    </tr>\n",
       "    <tr>\n",
       "      <th>1154</th>\n",
       "      <td>0</td>\n",
       "      <td>0</td>\n",
       "      <td>0</td>\n",
       "      <td>1</td>\n",
       "      <td>0</td>\n",
       "      <td>0</td>\n",
       "      <td>0</td>\n",
       "      <td>0</td>\n",
       "      <td>0</td>\n",
       "      <td>0</td>\n",
       "      <td>1</td>\n",
       "    </tr>\n",
       "    <tr>\n",
       "      <th>2016</th>\n",
       "      <td>0</td>\n",
       "      <td>0</td>\n",
       "      <td>0</td>\n",
       "      <td>1</td>\n",
       "      <td>0</td>\n",
       "      <td>0</td>\n",
       "      <td>0</td>\n",
       "      <td>0</td>\n",
       "      <td>1</td>\n",
       "      <td>0</td>\n",
       "      <td>1</td>\n",
       "    </tr>\n",
       "    <tr>\n",
       "      <th>1603</th>\n",
       "      <td>0</td>\n",
       "      <td>0</td>\n",
       "      <td>0</td>\n",
       "      <td>1</td>\n",
       "      <td>0</td>\n",
       "      <td>0</td>\n",
       "      <td>0</td>\n",
       "      <td>0</td>\n",
       "      <td>0</td>\n",
       "      <td>0</td>\n",
       "      <td>0</td>\n",
       "    </tr>\n",
       "  </tbody>\n",
       "</table>\n",
       "</div>"
      ],
      "text/plain": [
       "      viagra  deadline  million  and  congratulations  winner  lucky  draw  \\\n",
       "1509       0         0        0    1                0       0      0     0   \n",
       "1885       0         1        0    1                0       0      0     0   \n",
       "1154       0         0        0    1                0       0      0     0   \n",
       "2016       0         0        0    1                0       0      0     0   \n",
       "1603       0         0        0    1                0       0      0     0   \n",
       "\n",
       "      money  scholarship  spam  \n",
       "1509      0            0     0  \n",
       "1885      0            0     0  \n",
       "1154      0            0     1  \n",
       "2016      1            0     1  \n",
       "1603      0            0     0  "
      ]
     },
     "execution_count": 257,
     "metadata": {},
     "output_type": "execute_result"
    }
   ],
   "source": [
    "temp_train = X_train.copy(deep=True)\n",
    "temp_train['spam'] = y_train\n",
    "temp_train.head()"
   ]
  },
  {
   "cell_type": "code",
   "execution_count": 258,
   "id": "a795b3fe",
   "metadata": {},
   "outputs": [
    {
     "data": {
      "text/html": [
       "<div>\n",
       "<style scoped>\n",
       "    .dataframe tbody tr th:only-of-type {\n",
       "        vertical-align: middle;\n",
       "    }\n",
       "\n",
       "    .dataframe tbody tr th {\n",
       "        vertical-align: top;\n",
       "    }\n",
       "\n",
       "    .dataframe thead th {\n",
       "        text-align: right;\n",
       "    }\n",
       "</style>\n",
       "<table border=\"1\" class=\"dataframe\">\n",
       "  <thead>\n",
       "    <tr style=\"text-align: right;\">\n",
       "      <th></th>\n",
       "      <th>pr_w1</th>\n",
       "      <th>pr_w0</th>\n",
       "      <th>pr_w1s1</th>\n",
       "      <th>pr_w0s1</th>\n",
       "      <th>pr_w1s0</th>\n",
       "      <th>pr_w0s0</th>\n",
       "    </tr>\n",
       "  </thead>\n",
       "  <tbody>\n",
       "    <tr>\n",
       "      <th>viagra</th>\n",
       "      <td>0.000432</td>\n",
       "      <td>0.999568</td>\n",
       "      <td>0.002632</td>\n",
       "      <td>0.997368</td>\n",
       "      <td>0.000000</td>\n",
       "      <td>1.000000</td>\n",
       "    </tr>\n",
       "    <tr>\n",
       "      <th>deadline</th>\n",
       "      <td>0.149957</td>\n",
       "      <td>0.850043</td>\n",
       "      <td>0.000000</td>\n",
       "      <td>1.000000</td>\n",
       "      <td>0.179421</td>\n",
       "      <td>0.820579</td>\n",
       "    </tr>\n",
       "    <tr>\n",
       "      <th>million</th>\n",
       "      <td>0.047537</td>\n",
       "      <td>0.952463</td>\n",
       "      <td>0.244737</td>\n",
       "      <td>0.755263</td>\n",
       "      <td>0.008790</td>\n",
       "      <td>0.991210</td>\n",
       "    </tr>\n",
       "    <tr>\n",
       "      <th>and</th>\n",
       "      <td>0.942956</td>\n",
       "      <td>0.057044</td>\n",
       "      <td>0.921053</td>\n",
       "      <td>0.078947</td>\n",
       "      <td>0.947260</td>\n",
       "      <td>0.052740</td>\n",
       "    </tr>\n",
       "    <tr>\n",
       "      <th>congratulations</th>\n",
       "      <td>0.002161</td>\n",
       "      <td>0.997839</td>\n",
       "      <td>0.013158</td>\n",
       "      <td>0.986842</td>\n",
       "      <td>0.000000</td>\n",
       "      <td>1.000000</td>\n",
       "    </tr>\n",
       "    <tr>\n",
       "      <th>winner</th>\n",
       "      <td>0.009507</td>\n",
       "      <td>0.990493</td>\n",
       "      <td>0.042105</td>\n",
       "      <td>0.957895</td>\n",
       "      <td>0.003102</td>\n",
       "      <td>0.996898</td>\n",
       "    </tr>\n",
       "    <tr>\n",
       "      <th>lucky</th>\n",
       "      <td>0.010804</td>\n",
       "      <td>0.989196</td>\n",
       "      <td>0.060526</td>\n",
       "      <td>0.939474</td>\n",
       "      <td>0.001034</td>\n",
       "      <td>0.998966</td>\n",
       "    </tr>\n",
       "    <tr>\n",
       "      <th>draw</th>\n",
       "      <td>0.044944</td>\n",
       "      <td>0.955056</td>\n",
       "      <td>0.018421</td>\n",
       "      <td>0.981579</td>\n",
       "      <td>0.050155</td>\n",
       "      <td>0.949845</td>\n",
       "    </tr>\n",
       "    <tr>\n",
       "      <th>money</th>\n",
       "      <td>0.082541</td>\n",
       "      <td>0.917459</td>\n",
       "      <td>0.360526</td>\n",
       "      <td>0.639474</td>\n",
       "      <td>0.027921</td>\n",
       "      <td>0.972079</td>\n",
       "    </tr>\n",
       "    <tr>\n",
       "      <th>scholarship</th>\n",
       "      <td>0.008643</td>\n",
       "      <td>0.991357</td>\n",
       "      <td>0.002632</td>\n",
       "      <td>0.997368</td>\n",
       "      <td>0.009824</td>\n",
       "      <td>0.990176</td>\n",
       "    </tr>\n",
       "  </tbody>\n",
       "</table>\n",
       "</div>"
      ],
      "text/plain": [
       "                    pr_w1     pr_w0   pr_w1s1   pr_w0s1   pr_w1s0   pr_w0s0\n",
       "viagra           0.000432  0.999568  0.002632  0.997368  0.000000  1.000000\n",
       "deadline         0.149957  0.850043  0.000000  1.000000  0.179421  0.820579\n",
       "million          0.047537  0.952463  0.244737  0.755263  0.008790  0.991210\n",
       "and              0.942956  0.057044  0.921053  0.078947  0.947260  0.052740\n",
       "congratulations  0.002161  0.997839  0.013158  0.986842  0.000000  1.000000\n",
       "winner           0.009507  0.990493  0.042105  0.957895  0.003102  0.996898\n",
       "lucky            0.010804  0.989196  0.060526  0.939474  0.001034  0.998966\n",
       "draw             0.044944  0.955056  0.018421  0.981579  0.050155  0.949845\n",
       "money            0.082541  0.917459  0.360526  0.639474  0.027921  0.972079\n",
       "scholarship      0.008643  0.991357  0.002632  0.997368  0.009824  0.990176"
      ]
     },
     "execution_count": 258,
     "metadata": {},
     "output_type": "execute_result"
    }
   ],
   "source": [
    "for w in X_train:\n",
    "    prob_words.loc[[w],['pr_w1s1']] = temp_train[temp_train['spam']==1][w].mean()\n",
    "    prob_words.loc[[w],['pr_w0s1']] = 1 - temp_train[temp_train['spam']==1][w].mean()\n",
    "    prob_words.loc[[w],['pr_w1s0']] = temp_train[temp_train['spam']==0][w].mean()\n",
    "    prob_words.loc[[w],['pr_w0s0']] = 1 - temp_train[temp_train['spam']==0][w].mean()\n",
    "\n",
    "prob_words"
   ]
  },
  {
   "cell_type": "markdown",
   "id": "fc422048",
   "metadata": {},
   "source": [
    "5. (5pt) Finally, compute the probabilities of interest, Pr(category = S|w = 1) and Pr(category =\n",
    "S|w = 0). Compute this value using Bayes theorem, not directly by counting!\n",
    "For the check, you may also compute Pr(category = NS|w = 1) and Pr(category = NS|w = 0)\n",
    "Hint: Pr(category = S|million = 1) = 0.843. But note this number depends on your random testing-validation split!"
   ]
  },
  {
   "cell_type": "code",
   "execution_count": 259,
   "id": "fcf4ac67",
   "metadata": {},
   "outputs": [
    {
     "data": {
      "text/plain": [
       "million    0.845455\n",
       "dtype: float64"
      ]
     },
     "execution_count": 259,
     "metadata": {},
     "output_type": "execute_result"
    }
   ],
   "source": [
    "(prob_words.loc[['million'],['pr_w1s1']]['pr_w1s1'] * pr_s1) / (prob_words.loc[['million'],['pr_w1']]['pr_w1'])"
   ]
  },
  {
   "cell_type": "code",
   "execution_count": 261,
   "id": "6d502c1d",
   "metadata": {},
   "outputs": [
    {
     "data": {
      "text/html": [
       "<div>\n",
       "<style scoped>\n",
       "    .dataframe tbody tr th:only-of-type {\n",
       "        vertical-align: middle;\n",
       "    }\n",
       "\n",
       "    .dataframe tbody tr th {\n",
       "        vertical-align: top;\n",
       "    }\n",
       "\n",
       "    .dataframe thead th {\n",
       "        text-align: right;\n",
       "    }\n",
       "</style>\n",
       "<table border=\"1\" class=\"dataframe\">\n",
       "  <thead>\n",
       "    <tr style=\"text-align: right;\">\n",
       "      <th></th>\n",
       "      <th>pr_w1</th>\n",
       "      <th>pr_w0</th>\n",
       "      <th>pr_w1s1</th>\n",
       "      <th>pr_w0s1</th>\n",
       "      <th>pr_w1s0</th>\n",
       "      <th>pr_w0s0</th>\n",
       "      <th>pr_s1w1</th>\n",
       "      <th>pr_s0w1</th>\n",
       "      <th>pr_s1w0</th>\n",
       "      <th>pr_s0w0</th>\n",
       "    </tr>\n",
       "  </thead>\n",
       "  <tbody>\n",
       "    <tr>\n",
       "      <th>viagra</th>\n",
       "      <td>0.000432</td>\n",
       "      <td>0.999568</td>\n",
       "      <td>0.002632</td>\n",
       "      <td>0.997368</td>\n",
       "      <td>0.000000</td>\n",
       "      <td>1.000000</td>\n",
       "      <td>1.000000</td>\n",
       "      <td>0.000000</td>\n",
       "      <td>0.163856</td>\n",
       "      <td>0.836144</td>\n",
       "    </tr>\n",
       "    <tr>\n",
       "      <th>deadline</th>\n",
       "      <td>0.149957</td>\n",
       "      <td>0.850043</td>\n",
       "      <td>0.000000</td>\n",
       "      <td>1.000000</td>\n",
       "      <td>0.179421</td>\n",
       "      <td>0.820579</td>\n",
       "      <td>0.000000</td>\n",
       "      <td>1.000000</td>\n",
       "      <td>0.193188</td>\n",
       "      <td>0.806812</td>\n",
       "    </tr>\n",
       "    <tr>\n",
       "      <th>million</th>\n",
       "      <td>0.047537</td>\n",
       "      <td>0.952463</td>\n",
       "      <td>0.244737</td>\n",
       "      <td>0.755263</td>\n",
       "      <td>0.008790</td>\n",
       "      <td>0.991210</td>\n",
       "      <td>0.845455</td>\n",
       "      <td>0.154545</td>\n",
       "      <td>0.130218</td>\n",
       "      <td>0.869782</td>\n",
       "    </tr>\n",
       "    <tr>\n",
       "      <th>and</th>\n",
       "      <td>0.942956</td>\n",
       "      <td>0.057044</td>\n",
       "      <td>0.921053</td>\n",
       "      <td>0.078947</td>\n",
       "      <td>0.947260</td>\n",
       "      <td>0.052740</td>\n",
       "      <td>0.160403</td>\n",
       "      <td>0.839597</td>\n",
       "      <td>0.227273</td>\n",
       "      <td>0.772727</td>\n",
       "    </tr>\n",
       "    <tr>\n",
       "      <th>congratulations</th>\n",
       "      <td>0.002161</td>\n",
       "      <td>0.997839</td>\n",
       "      <td>0.013158</td>\n",
       "      <td>0.986842</td>\n",
       "      <td>0.000000</td>\n",
       "      <td>1.000000</td>\n",
       "      <td>1.000000</td>\n",
       "      <td>0.000000</td>\n",
       "      <td>0.162408</td>\n",
       "      <td>0.837592</td>\n",
       "    </tr>\n",
       "    <tr>\n",
       "      <th>winner</th>\n",
       "      <td>0.009507</td>\n",
       "      <td>0.990493</td>\n",
       "      <td>0.042105</td>\n",
       "      <td>0.957895</td>\n",
       "      <td>0.003102</td>\n",
       "      <td>0.996898</td>\n",
       "      <td>0.727273</td>\n",
       "      <td>0.272727</td>\n",
       "      <td>0.158813</td>\n",
       "      <td>0.841187</td>\n",
       "    </tr>\n",
       "    <tr>\n",
       "      <th>lucky</th>\n",
       "      <td>0.010804</td>\n",
       "      <td>0.989196</td>\n",
       "      <td>0.060526</td>\n",
       "      <td>0.939474</td>\n",
       "      <td>0.001034</td>\n",
       "      <td>0.998966</td>\n",
       "      <td>0.920000</td>\n",
       "      <td>0.080000</td>\n",
       "      <td>0.155963</td>\n",
       "      <td>0.844037</td>\n",
       "    </tr>\n",
       "    <tr>\n",
       "      <th>draw</th>\n",
       "      <td>0.044944</td>\n",
       "      <td>0.955056</td>\n",
       "      <td>0.018421</td>\n",
       "      <td>0.981579</td>\n",
       "      <td>0.050155</td>\n",
       "      <td>0.949845</td>\n",
       "      <td>0.067308</td>\n",
       "      <td>0.932692</td>\n",
       "      <td>0.168778</td>\n",
       "      <td>0.831222</td>\n",
       "    </tr>\n",
       "    <tr>\n",
       "      <th>money</th>\n",
       "      <td>0.082541</td>\n",
       "      <td>0.917459</td>\n",
       "      <td>0.360526</td>\n",
       "      <td>0.639474</td>\n",
       "      <td>0.027921</td>\n",
       "      <td>0.972079</td>\n",
       "      <td>0.717277</td>\n",
       "      <td>0.282723</td>\n",
       "      <td>0.114461</td>\n",
       "      <td>0.885539</td>\n",
       "    </tr>\n",
       "    <tr>\n",
       "      <th>scholarship</th>\n",
       "      <td>0.008643</td>\n",
       "      <td>0.991357</td>\n",
       "      <td>0.002632</td>\n",
       "      <td>0.997368</td>\n",
       "      <td>0.009824</td>\n",
       "      <td>0.990176</td>\n",
       "      <td>0.050000</td>\n",
       "      <td>0.950000</td>\n",
       "      <td>0.165214</td>\n",
       "      <td>0.834786</td>\n",
       "    </tr>\n",
       "  </tbody>\n",
       "</table>\n",
       "</div>"
      ],
      "text/plain": [
       "                    pr_w1     pr_w0   pr_w1s1   pr_w0s1   pr_w1s0   pr_w0s0  \\\n",
       "viagra           0.000432  0.999568  0.002632  0.997368  0.000000  1.000000   \n",
       "deadline         0.149957  0.850043  0.000000  1.000000  0.179421  0.820579   \n",
       "million          0.047537  0.952463  0.244737  0.755263  0.008790  0.991210   \n",
       "and              0.942956  0.057044  0.921053  0.078947  0.947260  0.052740   \n",
       "congratulations  0.002161  0.997839  0.013158  0.986842  0.000000  1.000000   \n",
       "winner           0.009507  0.990493  0.042105  0.957895  0.003102  0.996898   \n",
       "lucky            0.010804  0.989196  0.060526  0.939474  0.001034  0.998966   \n",
       "draw             0.044944  0.955056  0.018421  0.981579  0.050155  0.949845   \n",
       "money            0.082541  0.917459  0.360526  0.639474  0.027921  0.972079   \n",
       "scholarship      0.008643  0.991357  0.002632  0.997368  0.009824  0.990176   \n",
       "\n",
       "                  pr_s1w1   pr_s0w1   pr_s1w0   pr_s0w0  \n",
       "viagra           1.000000  0.000000  0.163856  0.836144  \n",
       "deadline         0.000000  1.000000  0.193188  0.806812  \n",
       "million          0.845455  0.154545  0.130218  0.869782  \n",
       "and              0.160403  0.839597  0.227273  0.772727  \n",
       "congratulations  1.000000  0.000000  0.162408  0.837592  \n",
       "winner           0.727273  0.272727  0.158813  0.841187  \n",
       "lucky            0.920000  0.080000  0.155963  0.844037  \n",
       "draw             0.067308  0.932692  0.168778  0.831222  \n",
       "money            0.717277  0.282723  0.114461  0.885539  \n",
       "scholarship      0.050000  0.950000  0.165214  0.834786  "
      ]
     },
     "execution_count": 261,
     "metadata": {},
     "output_type": "execute_result"
    }
   ],
   "source": [
    "for w in X_train:\n",
    "    pr_w1s1 = prob_words.loc[[w],['pr_w1s1']]['pr_w1s1']\n",
    "    pr_w1 = prob_words.loc[[w],['pr_w1']]['pr_w1']\n",
    "    prob_words.loc[[w],['pr_s1w1']] = (pr_w1s1 * pr_s1) / pr_w1\n",
    "    \n",
    "    pr_w1s0 = prob_words.loc[[w],['pr_w1s0']]['pr_w1s0']\n",
    "    pr_w1 = prob_words.loc[[w],['pr_w1']]['pr_w1']\n",
    "    prob_words.loc[[w],['pr_s0w1']] = (pr_w1s0 * pr_s0) / pr_w1\n",
    "    \n",
    "    pr_w0s1 = prob_words.loc[[w],['pr_w0s1']]['pr_w0s1']\n",
    "    pr_w0 = prob_words.loc[[w],['pr_w0']]['pr_w0']\n",
    "    prob_words.loc[[w],['pr_s1w0']] = (pr_w0s1 * pr_s1) / pr_w0\n",
    "    \n",
    "    pr_w0s0 = prob_words.loc[[w],['pr_w0s0']]['pr_w0s0']\n",
    "    pr_w0 = prob_words.loc[[w],['pr_w0']]['pr_w0']\n",
    "    prob_words.loc[[w],['pr_s0w0']] = (pr_w0s0 * pr_s0) / pr_w0\n",
    "prob_words"
   ]
  },
  {
   "cell_type": "markdown",
   "id": "02093828",
   "metadata": {},
   "source": [
    "6. (6pt) Which of these probabilities have to sum to one? (E.g. Pr(category = 1) + Pr(category = 0) = 1.) Which ones do not? Explain!"
   ]
  },
  {
   "cell_type": "markdown",
   "id": "252f8767",
   "metadata": {},
   "source": [
    "pr_w1 and pr_w0 have to sum to 1 because they are probabilities of one factor being true. \n",
    "\n",
    "the following sets would sum to 1:\n",
    "- pr_w1s1 and pr_w0s1\n",
    "- pr_w1s0 and pr_w0s0 \n",
    "- pr_s1w1 and pr_s0w1\n",
    "- pr_s1w0 and pr_s0w0\n",
    "\n",
    "because they are conditional probabilities and when the condition is same, the sum of probabilities has to be 1.\n"
   ]
  },
  {
   "cell_type": "markdown",
   "id": "7809f33d",
   "metadata": {},
   "source": [
    "Now we are done with the estimator. Your fitted model is completely described by these probabilities. Let’s now turn to prediction, using your validation data. Note that we are still inside the loop over each word w!"
   ]
  },
  {
   "cell_type": "markdown",
   "id": "915c1b65",
   "metadata": {},
   "source": [
    "7. (8pt) For each email in your validation set, predict whether it is predicted to be spam or non- spam. Hint: you should check if it contains the word w and use the appropriate probability, Pr(category = S|w = 1) or Pr(category = S|w = 0)."
   ]
  },
  {
   "cell_type": "code",
   "execution_count": 264,
   "id": "e0ea8e2f",
   "metadata": {},
   "outputs": [
    {
     "data": {
      "text/html": [
       "<div>\n",
       "<style scoped>\n",
       "    .dataframe tbody tr th:only-of-type {\n",
       "        vertical-align: middle;\n",
       "    }\n",
       "\n",
       "    .dataframe tbody tr th {\n",
       "        vertical-align: top;\n",
       "    }\n",
       "\n",
       "    .dataframe thead th {\n",
       "        text-align: right;\n",
       "    }\n",
       "</style>\n",
       "<table border=\"1\" class=\"dataframe\">\n",
       "  <thead>\n",
       "    <tr style=\"text-align: right;\">\n",
       "      <th></th>\n",
       "      <th>viagra</th>\n",
       "      <th>deadline</th>\n",
       "      <th>million</th>\n",
       "      <th>and</th>\n",
       "      <th>congratulations</th>\n",
       "      <th>winner</th>\n",
       "      <th>lucky</th>\n",
       "      <th>draw</th>\n",
       "      <th>money</th>\n",
       "      <th>scholarship</th>\n",
       "    </tr>\n",
       "  </thead>\n",
       "  <tbody>\n",
       "    <tr>\n",
       "      <th>1515</th>\n",
       "      <td>0</td>\n",
       "      <td>1</td>\n",
       "      <td>0</td>\n",
       "      <td>1</td>\n",
       "      <td>0</td>\n",
       "      <td>0</td>\n",
       "      <td>0</td>\n",
       "      <td>0</td>\n",
       "      <td>0</td>\n",
       "      <td>0</td>\n",
       "    </tr>\n",
       "    <tr>\n",
       "      <th>1396</th>\n",
       "      <td>0</td>\n",
       "      <td>0</td>\n",
       "      <td>0</td>\n",
       "      <td>1</td>\n",
       "      <td>0</td>\n",
       "      <td>0</td>\n",
       "      <td>0</td>\n",
       "      <td>0</td>\n",
       "      <td>0</td>\n",
       "      <td>0</td>\n",
       "    </tr>\n",
       "    <tr>\n",
       "      <th>2131</th>\n",
       "      <td>0</td>\n",
       "      <td>0</td>\n",
       "      <td>0</td>\n",
       "      <td>1</td>\n",
       "      <td>0</td>\n",
       "      <td>0</td>\n",
       "      <td>0</td>\n",
       "      <td>0</td>\n",
       "      <td>0</td>\n",
       "      <td>0</td>\n",
       "    </tr>\n",
       "    <tr>\n",
       "      <th>2170</th>\n",
       "      <td>0</td>\n",
       "      <td>1</td>\n",
       "      <td>0</td>\n",
       "      <td>1</td>\n",
       "      <td>0</td>\n",
       "      <td>0</td>\n",
       "      <td>0</td>\n",
       "      <td>0</td>\n",
       "      <td>0</td>\n",
       "      <td>0</td>\n",
       "    </tr>\n",
       "    <tr>\n",
       "      <th>2192</th>\n",
       "      <td>0</td>\n",
       "      <td>1</td>\n",
       "      <td>0</td>\n",
       "      <td>1</td>\n",
       "      <td>0</td>\n",
       "      <td>0</td>\n",
       "      <td>0</td>\n",
       "      <td>0</td>\n",
       "      <td>0</td>\n",
       "      <td>0</td>\n",
       "    </tr>\n",
       "    <tr>\n",
       "      <th>...</th>\n",
       "      <td>...</td>\n",
       "      <td>...</td>\n",
       "      <td>...</td>\n",
       "      <td>...</td>\n",
       "      <td>...</td>\n",
       "      <td>...</td>\n",
       "      <td>...</td>\n",
       "      <td>...</td>\n",
       "      <td>...</td>\n",
       "      <td>...</td>\n",
       "    </tr>\n",
       "    <tr>\n",
       "      <th>774</th>\n",
       "      <td>0</td>\n",
       "      <td>0</td>\n",
       "      <td>0</td>\n",
       "      <td>1</td>\n",
       "      <td>0</td>\n",
       "      <td>0</td>\n",
       "      <td>0</td>\n",
       "      <td>0</td>\n",
       "      <td>0</td>\n",
       "      <td>0</td>\n",
       "    </tr>\n",
       "    <tr>\n",
       "      <th>2130</th>\n",
       "      <td>0</td>\n",
       "      <td>0</td>\n",
       "      <td>0</td>\n",
       "      <td>1</td>\n",
       "      <td>0</td>\n",
       "      <td>0</td>\n",
       "      <td>0</td>\n",
       "      <td>0</td>\n",
       "      <td>0</td>\n",
       "      <td>0</td>\n",
       "    </tr>\n",
       "    <tr>\n",
       "      <th>1255</th>\n",
       "      <td>0</td>\n",
       "      <td>0</td>\n",
       "      <td>0</td>\n",
       "      <td>1</td>\n",
       "      <td>0</td>\n",
       "      <td>0</td>\n",
       "      <td>0</td>\n",
       "      <td>0</td>\n",
       "      <td>0</td>\n",
       "      <td>0</td>\n",
       "    </tr>\n",
       "    <tr>\n",
       "      <th>646</th>\n",
       "      <td>0</td>\n",
       "      <td>0</td>\n",
       "      <td>0</td>\n",
       "      <td>1</td>\n",
       "      <td>0</td>\n",
       "      <td>0</td>\n",
       "      <td>0</td>\n",
       "      <td>0</td>\n",
       "      <td>0</td>\n",
       "      <td>0</td>\n",
       "    </tr>\n",
       "    <tr>\n",
       "      <th>2733</th>\n",
       "      <td>0</td>\n",
       "      <td>0</td>\n",
       "      <td>0</td>\n",
       "      <td>1</td>\n",
       "      <td>0</td>\n",
       "      <td>0</td>\n",
       "      <td>0</td>\n",
       "      <td>0</td>\n",
       "      <td>0</td>\n",
       "      <td>0</td>\n",
       "    </tr>\n",
       "  </tbody>\n",
       "</table>\n",
       "<p>579 rows × 10 columns</p>\n",
       "</div>"
      ],
      "text/plain": [
       "      viagra  deadline  million  and  congratulations  winner  lucky  draw  \\\n",
       "1515       0         1        0    1                0       0      0     0   \n",
       "1396       0         0        0    1                0       0      0     0   \n",
       "2131       0         0        0    1                0       0      0     0   \n",
       "2170       0         1        0    1                0       0      0     0   \n",
       "2192       0         1        0    1                0       0      0     0   \n",
       "...      ...       ...      ...  ...              ...     ...    ...   ...   \n",
       "774        0         0        0    1                0       0      0     0   \n",
       "2130       0         0        0    1                0       0      0     0   \n",
       "1255       0         0        0    1                0       0      0     0   \n",
       "646        0         0        0    1                0       0      0     0   \n",
       "2733       0         0        0    1                0       0      0     0   \n",
       "\n",
       "      money  scholarship  \n",
       "1515      0            0  \n",
       "1396      0            0  \n",
       "2131      0            0  \n",
       "2170      0            0  \n",
       "2192      0            0  \n",
       "...     ...          ...  \n",
       "774       0            0  \n",
       "2130      0            0  \n",
       "1255      0            0  \n",
       "646       0            0  \n",
       "2733      0            0  \n",
       "\n",
       "[579 rows x 10 columns]"
      ]
     },
     "execution_count": 264,
     "metadata": {},
     "output_type": "execute_result"
    }
   ],
   "source": [
    "X_test"
   ]
  },
  {
   "cell_type": "code",
   "execution_count": 271,
   "id": "cd565933",
   "metadata": {},
   "outputs": [
    {
     "data": {
      "text/plain": [
       "array([0, 1, 0, 1, 0, 0, 0, 0, 0, 0])"
      ]
     },
     "execution_count": 271,
     "metadata": {},
     "output_type": "execute_result"
    }
   ],
   "source": [
    "np.array(X_test.iloc[0])"
   ]
  },
  {
   "cell_type": "code",
   "execution_count": 280,
   "id": "3de21577",
   "metadata": {},
   "outputs": [],
   "source": [
    "prob_words['pr_s1w1'].values \n",
    "pred = prob_words[['pr_s1w1', 'pr_s1w0']]"
   ]
  },
  {
   "cell_type": "code",
   "execution_count": 340,
   "id": "5f034f5b",
   "metadata": {},
   "outputs": [],
   "source": [
    "result_list = []\n",
    "for i in range(X_test.shape[0]): \n",
    "    result_list.append(np.array(X_test.iloc[i]) @ pred['pr_s1w1'].values)"
   ]
  },
  {
   "cell_type": "code",
   "execution_count": 334,
   "id": "cd787fd1",
   "metadata": {},
   "outputs": [],
   "source": [
    "result_arr = np.array(result_list)"
   ]
  },
  {
   "cell_type": "code",
   "execution_count": 336,
   "id": "7869f813",
   "metadata": {},
   "outputs": [],
   "source": [
    "result_arr[result_arr > 0.5] = 1\n",
    "result_arr[result_arr < 0.5] = 0"
   ]
  },
  {
   "cell_type": "code",
   "execution_count": 339,
   "id": "0d79079e",
   "metadata": {},
   "outputs": [
    {
     "data": {
      "text/plain": [
       "0.8756476683937824"
      ]
     },
     "execution_count": 339,
     "metadata": {},
     "output_type": "execute_result"
    }
   ],
   "source": [
    "(result_arr == y_test).mean()"
   ]
  },
  {
   "cell_type": "markdown",
   "id": "f544bffd",
   "metadata": {},
   "source": [
    "8. (5pt) Print the resulting confusion matrix and compute accuracy, precision and recall."
   ]
  },
  {
   "cell_type": "code",
   "execution_count": 344,
   "id": "c058a967",
   "metadata": {},
   "outputs": [],
   "source": [
    "from sklearn.metrics import confusion_matrix,precision_score, recall_score, accuracy_score"
   ]
  },
  {
   "cell_type": "code",
   "execution_count": 342,
   "id": "dae39fca",
   "metadata": {},
   "outputs": [
    {
     "data": {
      "text/plain": [
       "array([[454,  24],\n",
       "       [ 48,  53]])"
      ]
     },
     "execution_count": 342,
     "metadata": {},
     "output_type": "execute_result"
    }
   ],
   "source": [
    "confusion_matrix(y_test, result_arr)"
   ]
  },
  {
   "cell_type": "code",
   "execution_count": 348,
   "id": "fa1e332c",
   "metadata": {},
   "outputs": [
    {
     "name": "stdout",
     "output_type": "stream",
     "text": [
      "Precision:  0.6883116883116883\n"
     ]
    }
   ],
   "source": [
    "print('Precision: ',precision_score(y_test, result_arr))"
   ]
  },
  {
   "cell_type": "code",
   "execution_count": 349,
   "id": "49a34c31",
   "metadata": {},
   "outputs": [
    {
     "name": "stdout",
     "output_type": "stream",
     "text": [
      "Recall:  0.5247524752475248\n"
     ]
    }
   ],
   "source": [
    "print('Recall: ',recall_score(y_test, result_arr))"
   ]
  },
  {
   "cell_type": "code",
   "execution_count": 350,
   "id": "c579ee11",
   "metadata": {},
   "outputs": [
    {
     "name": "stdout",
     "output_type": "stream",
     "text": [
      "Accuracy:  0.8756476683937824\n"
     ]
    }
   ],
   "source": [
    "print('Accuracy: ',accuracy_score(y_test, result_arr))"
   ]
  },
  {
   "cell_type": "markdown",
   "id": "dcbb8461",
   "metadata": {},
   "source": [
    "9. (5pt) Which steps above constitute model training? In which steps do you use trained model? What\n",
    "is a trained model in this case? Explain!"
   ]
  },
  {
   "cell_type": "markdown",
   "id": "8ede29a3",
   "metadata": {},
   "source": [
    "training data is used to train the model and I used training data to calculate the probabilities so the model can leverage 80% of the data to calculate probabilities. In this case those probabilities are the trained model since they are used to predict. Prediction uses the testing data and the trained probabilities to predict the outcome. That outcome is then compared with testing result to calculate the accuracy, precision and recall scores of the method."
   ]
  },
  {
   "cell_type": "markdown",
   "id": "07691d34",
   "metadata": {},
   "source": [
    "10. (4pt) Comment the overall performance of the model–how do accuracy, precision and recall look like?\n"
   ]
  },
  {
   "cell_type": "markdown",
   "id": "749e29d9",
   "metadata": {},
   "source": [
    "The overall performance of the model was good as the accuracy was 87.5% which means most of the predictions were correct. Further the recall was lower because we only used 10 words to train our model. The precision is also decent but it can also be improved by using more words."
   ]
  },
  {
   "cell_type": "markdown",
   "id": "3ae6eaa4",
   "metadata": {},
   "source": [
    "### Self-Note: (not for grading, but for learning only.)\n",
    "\n",
    "Accuracy: percentage of correct answers = (TN + TP) / T\n",
    "\n",
    "Precision: percentage of correct predicted positive = TP / (TP + FP)\n",
    "    sensitive to false positive\n",
    "    good measure if false positive is bad - judges must be sure the defendant is guilty, scientific discovery \n",
    "                                            is not just a statistical blip\n",
    "                                      \n",
    "Recall: percentage of actual positives captured = TP / TP + FN\n",
    "    \n",
    "    \n"
   ]
  },
  {
   "cell_type": "markdown",
   "id": "7e91c2bc",
   "metadata": {},
   "source": [
    "11. (8pt) Explain why do you see very low recall while the other indicators do not look that bad."
   ]
  },
  {
   "cell_type": "markdown",
   "id": "2c61e4aa",
   "metadata": {},
   "source": [
    "Recall is the percentage of actual positives captured that is: true positives / (true positive + false negatives).\n",
    "Recall is sensitive to false negatives. If prediction is false but actual result is true, it is considered false negative. In our model, we have many false negatives. Therefore we see a low recall. The reason behind low recall can be that we only had 10 words to make the predictions and based on those 10 words, we calculated the probabilities, so our model missed a lot of spam because those words were not in our model."
   ]
  },
  {
   "cell_type": "markdown",
   "id": "cdd7e3b9",
   "metadata": {},
   "source": [
    "12. (8pt) Explain why some words work well and others not:\n",
    "\n",
    "(a) why does “million” improve accuracy? \n",
    "\n",
    "(b) why does “viagra” not work?\n",
    "\n",
    "(c) why does “deadline” not work? \n",
    "\n",
    "(d) why does “and” not work?\n",
    "\n",
    "Hint: You may just see where in which emails these words occur, and how frequently. These are all different reasons!"
   ]
  },
  {
   "cell_type": "markdown",
   "id": "b7e0b5b9",
   "metadata": {},
   "source": [
    "a) because million appears in a lot of the spam emails so the probability of the spam with this word is higher.\n",
    "\n",
    "\n",
    "b) viagra doesn't work because it appears in only one emails therefore the probability of spam with this spam is very high.\n",
    "\n",
    "\n",
    "c) deadline doesn't work because it doesn't appear in spam emails.\n",
    "\n",
    "\n",
    "d) and doesn't work because it appears in most of the emails - either spam or not spam - so the the probability of an email being spam with this word is very low."
   ]
  },
  {
   "cell_type": "markdown",
   "id": "491d402f",
   "metadata": {},
   "source": [
    "13. (5pt) Add such smoothing to the model. You can either literally add two such lines of data, or alternatively manipulate the way you compute the probabilities.\n"
   ]
  },
  {
   "cell_type": "code",
   "execution_count": 437,
   "id": "6abca768",
   "metadata": {},
   "outputs": [
    {
     "data": {
      "text/html": [
       "<div>\n",
       "<style scoped>\n",
       "    .dataframe tbody tr th:only-of-type {\n",
       "        vertical-align: middle;\n",
       "    }\n",
       "\n",
       "    .dataframe tbody tr th {\n",
       "        vertical-align: top;\n",
       "    }\n",
       "\n",
       "    .dataframe thead th {\n",
       "        text-align: right;\n",
       "    }\n",
       "</style>\n",
       "<table border=\"1\" class=\"dataframe\">\n",
       "  <thead>\n",
       "    <tr style=\"text-align: right;\">\n",
       "      <th></th>\n",
       "      <th>pr_w1</th>\n",
       "      <th>pr_w0</th>\n",
       "    </tr>\n",
       "  </thead>\n",
       "  <tbody>\n",
       "    <tr>\n",
       "      <th>viagra</th>\n",
       "      <td>0.001296</td>\n",
       "      <td>0.999568</td>\n",
       "    </tr>\n",
       "    <tr>\n",
       "      <th>deadline</th>\n",
       "      <td>0.150821</td>\n",
       "      <td>0.850043</td>\n",
       "    </tr>\n",
       "    <tr>\n",
       "      <th>million</th>\n",
       "      <td>0.048401</td>\n",
       "      <td>0.952463</td>\n",
       "    </tr>\n",
       "    <tr>\n",
       "      <th>and</th>\n",
       "      <td>0.943820</td>\n",
       "      <td>0.057044</td>\n",
       "    </tr>\n",
       "    <tr>\n",
       "      <th>congratulations</th>\n",
       "      <td>0.003025</td>\n",
       "      <td>0.997839</td>\n",
       "    </tr>\n",
       "    <tr>\n",
       "      <th>winner</th>\n",
       "      <td>0.010372</td>\n",
       "      <td>0.990493</td>\n",
       "    </tr>\n",
       "    <tr>\n",
       "      <th>lucky</th>\n",
       "      <td>0.011668</td>\n",
       "      <td>0.989196</td>\n",
       "    </tr>\n",
       "    <tr>\n",
       "      <th>draw</th>\n",
       "      <td>0.045808</td>\n",
       "      <td>0.955056</td>\n",
       "    </tr>\n",
       "    <tr>\n",
       "      <th>money</th>\n",
       "      <td>0.083405</td>\n",
       "      <td>0.917459</td>\n",
       "    </tr>\n",
       "    <tr>\n",
       "      <th>scholarship</th>\n",
       "      <td>0.009507</td>\n",
       "      <td>0.991357</td>\n",
       "    </tr>\n",
       "  </tbody>\n",
       "</table>\n",
       "</div>"
      ],
      "text/plain": [
       "                    pr_w1     pr_w0\n",
       "viagra           0.001296  0.999568\n",
       "deadline         0.150821  0.850043\n",
       "million          0.048401  0.952463\n",
       "and              0.943820  0.057044\n",
       "congratulations  0.003025  0.997839\n",
       "winner           0.010372  0.990493\n",
       "lucky            0.011668  0.989196\n",
       "draw             0.045808  0.955056\n",
       "money            0.083405  0.917459\n",
       "scholarship      0.009507  0.991357"
      ]
     },
     "execution_count": 437,
     "metadata": {},
     "output_type": "execute_result"
    }
   ],
   "source": [
    "prob_words_sooth = pd.DataFrame()\n",
    "prob_words_sooth['pr_w1'] = ''\n",
    "for w in X_train:\n",
    "    prob_words_sooth.loc[w] = ((X_train[w] == 1).sum()+2)/X_train.shape[0]\n",
    "\n",
    "prob_words_sooth['pr_w0'] = ''\n",
    "for w in X_train:\n",
    "    prob_words_sooth.loc[[w],['pr_w0']] = ((X_train[w] == 0).mean())\n",
    "prob_words_sooth"
   ]
  },
  {
   "cell_type": "code",
   "execution_count": 438,
   "id": "7e5534fa",
   "metadata": {},
   "outputs": [
    {
     "data": {
      "text/html": [
       "<div>\n",
       "<style scoped>\n",
       "    .dataframe tbody tr th:only-of-type {\n",
       "        vertical-align: middle;\n",
       "    }\n",
       "\n",
       "    .dataframe tbody tr th {\n",
       "        vertical-align: top;\n",
       "    }\n",
       "\n",
       "    .dataframe thead th {\n",
       "        text-align: right;\n",
       "    }\n",
       "</style>\n",
       "<table border=\"1\" class=\"dataframe\">\n",
       "  <thead>\n",
       "    <tr style=\"text-align: right;\">\n",
       "      <th></th>\n",
       "      <th>pr_w1</th>\n",
       "      <th>pr_w0</th>\n",
       "      <th>pr_w1s1</th>\n",
       "      <th>pr_w0s1</th>\n",
       "      <th>pr_w1s0</th>\n",
       "      <th>pr_w0s0</th>\n",
       "      <th>pr_s1w1</th>\n",
       "      <th>pr_s0w1</th>\n",
       "      <th>pr_s1w0</th>\n",
       "      <th>pr_s0w0</th>\n",
       "    </tr>\n",
       "  </thead>\n",
       "  <tbody>\n",
       "    <tr>\n",
       "      <th>viagra</th>\n",
       "      <td>0.001296</td>\n",
       "      <td>0.999568</td>\n",
       "      <td>0.005236</td>\n",
       "      <td>0.994764</td>\n",
       "      <td>0.000517</td>\n",
       "      <td>0.999483</td>\n",
       "      <td>0.666091</td>\n",
       "      <td>0.333045</td>\n",
       "      <td>0.164147</td>\n",
       "      <td>0.835853</td>\n",
       "    </tr>\n",
       "    <tr>\n",
       "      <th>deadline</th>\n",
       "      <td>0.150821</td>\n",
       "      <td>0.850043</td>\n",
       "      <td>0.002618</td>\n",
       "      <td>0.997382</td>\n",
       "      <td>0.179752</td>\n",
       "      <td>0.820248</td>\n",
       "      <td>0.002863</td>\n",
       "      <td>0.996274</td>\n",
       "      <td>0.193529</td>\n",
       "      <td>0.806624</td>\n",
       "    </tr>\n",
       "    <tr>\n",
       "      <th>million</th>\n",
       "      <td>0.048401</td>\n",
       "      <td>0.952463</td>\n",
       "      <td>0.246073</td>\n",
       "      <td>0.753927</td>\n",
       "      <td>0.009298</td>\n",
       "      <td>0.990702</td>\n",
       "      <td>0.838561</td>\n",
       "      <td>0.160575</td>\n",
       "      <td>0.130559</td>\n",
       "      <td>0.869484</td>\n",
       "    </tr>\n",
       "    <tr>\n",
       "      <th>and</th>\n",
       "      <td>0.943820</td>\n",
       "      <td>0.057044</td>\n",
       "      <td>0.918848</td>\n",
       "      <td>0.081152</td>\n",
       "      <td>0.946798</td>\n",
       "      <td>0.053202</td>\n",
       "      <td>0.160575</td>\n",
       "      <td>0.838561</td>\n",
       "      <td>0.234646</td>\n",
       "      <td>0.779629</td>\n",
       "    </tr>\n",
       "    <tr>\n",
       "      <th>congratulations</th>\n",
       "      <td>0.003025</td>\n",
       "      <td>0.997839</td>\n",
       "      <td>0.015707</td>\n",
       "      <td>0.984293</td>\n",
       "      <td>0.000517</td>\n",
       "      <td>0.999483</td>\n",
       "      <td>0.856403</td>\n",
       "      <td>0.142734</td>\n",
       "      <td>0.162700</td>\n",
       "      <td>0.837301</td>\n",
       "    </tr>\n",
       "    <tr>\n",
       "      <th>winner</th>\n",
       "      <td>0.010372</td>\n",
       "      <td>0.990493</td>\n",
       "      <td>0.044503</td>\n",
       "      <td>0.955497</td>\n",
       "      <td>0.003616</td>\n",
       "      <td>0.996384</td>\n",
       "      <td>0.707722</td>\n",
       "      <td>0.291415</td>\n",
       "      <td>0.159112</td>\n",
       "      <td>0.840896</td>\n",
       "    </tr>\n",
       "    <tr>\n",
       "      <th>lucky</th>\n",
       "      <td>0.011668</td>\n",
       "      <td>0.989196</td>\n",
       "      <td>0.062827</td>\n",
       "      <td>0.937173</td>\n",
       "      <td>0.001550</td>\n",
       "      <td>0.998450</td>\n",
       "      <td>0.888121</td>\n",
       "      <td>0.111015</td>\n",
       "      <td>0.156265</td>\n",
       "      <td>0.843744</td>\n",
       "    </tr>\n",
       "    <tr>\n",
       "      <th>draw</th>\n",
       "      <td>0.045808</td>\n",
       "      <td>0.955056</td>\n",
       "      <td>0.020942</td>\n",
       "      <td>0.979058</td>\n",
       "      <td>0.050620</td>\n",
       "      <td>0.949380</td>\n",
       "      <td>0.075407</td>\n",
       "      <td>0.923730</td>\n",
       "      <td>0.169085</td>\n",
       "      <td>0.830956</td>\n",
       "    </tr>\n",
       "    <tr>\n",
       "      <th>money</th>\n",
       "      <td>0.083405</td>\n",
       "      <td>0.917459</td>\n",
       "      <td>0.361257</td>\n",
       "      <td>0.638743</td>\n",
       "      <td>0.028409</td>\n",
       "      <td>0.971591</td>\n",
       "      <td>0.714408</td>\n",
       "      <td>0.284728</td>\n",
       "      <td>0.114832</td>\n",
       "      <td>0.885245</td>\n",
       "    </tr>\n",
       "    <tr>\n",
       "      <th>scholarship</th>\n",
       "      <td>0.009507</td>\n",
       "      <td>0.991357</td>\n",
       "      <td>0.005236</td>\n",
       "      <td>0.994764</td>\n",
       "      <td>0.010331</td>\n",
       "      <td>0.989669</td>\n",
       "      <td>0.090831</td>\n",
       "      <td>0.908306</td>\n",
       "      <td>0.165506</td>\n",
       "      <td>0.834501</td>\n",
       "    </tr>\n",
       "  </tbody>\n",
       "</table>\n",
       "</div>"
      ],
      "text/plain": [
       "                    pr_w1     pr_w0   pr_w1s1   pr_w0s1   pr_w1s0   pr_w0s0  \\\n",
       "viagra           0.001296  0.999568  0.005236  0.994764  0.000517  0.999483   \n",
       "deadline         0.150821  0.850043  0.002618  0.997382  0.179752  0.820248   \n",
       "million          0.048401  0.952463  0.246073  0.753927  0.009298  0.990702   \n",
       "and              0.943820  0.057044  0.918848  0.081152  0.946798  0.053202   \n",
       "congratulations  0.003025  0.997839  0.015707  0.984293  0.000517  0.999483   \n",
       "winner           0.010372  0.990493  0.044503  0.955497  0.003616  0.996384   \n",
       "lucky            0.011668  0.989196  0.062827  0.937173  0.001550  0.998450   \n",
       "draw             0.045808  0.955056  0.020942  0.979058  0.050620  0.949380   \n",
       "money            0.083405  0.917459  0.361257  0.638743  0.028409  0.971591   \n",
       "scholarship      0.009507  0.991357  0.005236  0.994764  0.010331  0.989669   \n",
       "\n",
       "                  pr_s1w1   pr_s0w1   pr_s1w0   pr_s0w0  \n",
       "viagra           0.666091  0.333045  0.164147  0.835853  \n",
       "deadline         0.002863  0.996274  0.193529  0.806624  \n",
       "million          0.838561  0.160575  0.130559  0.869484  \n",
       "and              0.160575  0.838561  0.234646  0.779629  \n",
       "congratulations  0.856403  0.142734  0.162700  0.837301  \n",
       "winner           0.707722  0.291415  0.159112  0.840896  \n",
       "lucky            0.888121  0.111015  0.156265  0.843744  \n",
       "draw             0.075407  0.923730  0.169085  0.830956  \n",
       "money            0.714408  0.284728  0.114832  0.885245  \n",
       "scholarship      0.090831  0.908306  0.165506  0.834501  "
      ]
     },
     "execution_count": 438,
     "metadata": {},
     "output_type": "execute_result"
    }
   ],
   "source": [
    "for w in X_train:\n",
    "    prob_words_sooth.loc[[w],['pr_w1s1']] = ((temp_train[temp_train['spam']==1][w]).sum()+1)/((temp_train['spam']==1).sum()+2)\n",
    "    prob_words_sooth.loc[[w],['pr_w0s1']] = 1 - prob_words_sooth.loc[[w],['pr_w1s1']]['pr_w1s1']\n",
    "    prob_words_sooth.loc[[w],['pr_w1s0']] = ((temp_train[temp_train['spam']==0][w]).sum()+1)/((temp_train['spam']==0).sum()+2)\n",
    "    prob_words_sooth.loc[[w],['pr_w0s0']] = 1 - prob_words_sooth.loc[[w],['pr_w1s0']]['pr_w1s0']\n",
    "\n",
    "\n",
    "    \n",
    "for w in X_train:\n",
    "    pr_w1s1 = prob_words_sooth.loc[[w],['pr_w1s1']]['pr_w1s1']\n",
    "    pr_w1 = prob_words_sooth.loc[[w],['pr_w1']]['pr_w1']\n",
    "    pr_s1 = ((temp_train['spam']==1).sum()+2) / (temp_train.shape[0] + 2)\n",
    "    prob_words_sooth.loc[[w],['pr_s1w1']] = (pr_w1s1 * pr_s1) / pr_w1\n",
    "    \n",
    "    pr_w1s0 = prob_words_sooth.loc[[w],['pr_w1s0']]['pr_w1s0']\n",
    "    pr_w1 = prob_words_sooth.loc[[w],['pr_w1']]['pr_w1']\n",
    "    pr_s0 = ((temp_train['spam']==0).sum()+2) / (temp_train.shape[0] + 2)\n",
    "    prob_words_sooth.loc[[w],['pr_s0w1']] = (pr_w1s0 * pr_s0) / pr_w1\n",
    "    \n",
    "    pr_w0s1 = prob_words_sooth.loc[[w],['pr_w0s1']]['pr_w0s1']\n",
    "    pr_w0 = prob_words_sooth.loc[[w],['pr_w0']]['pr_w0']\n",
    "    pr_s1 = ((temp_train['spam']==1).sum()+2) / (temp_train.shape[0] + 2)\n",
    "    prob_words_sooth.loc[[w],['pr_s1w0']] = (pr_w0s1 * pr_s1) / pr_w0\n",
    "    \n",
    "    pr_w0s0 = prob_words_sooth.loc[[w],['pr_w0s0']]['pr_w0s0']\n",
    "    pr_w0 = prob_words_sooth.loc[[w],['pr_w0']]['pr_w0']\n",
    "    pr_s0 = ((temp_train['spam']==0).sum()+2) / (temp_train.shape[0] + 2)\n",
    "    prob_words_sooth.loc[[w],['pr_s0w0']] = (pr_w0s0 * pr_s0) / pr_w0\n",
    "\n",
    "\n",
    "prob_words_sooth"
   ]
  },
  {
   "cell_type": "markdown",
   "id": "37390093",
   "metadata": {},
   "source": [
    "14. (5pt) Repeat the tasks above: compute the probabilities, do predictions, compute the accuracy, precision, recall for all words."
   ]
  },
  {
   "cell_type": "code",
   "execution_count": 441,
   "id": "6ae3de5d",
   "metadata": {},
   "outputs": [],
   "source": [
    "pred_sooth = prob_words_sooth[['pr_s1w1', 'pr_s1w0']]\n",
    "result_list_sooth = []\n",
    "for i in range(X_test.shape[0]): \n",
    "    result_list_sooth.append(np.array(X_test.iloc[i]) @ pred_sooth['pr_s1w1'].values)\n",
    "result_arr_sooth = np.array(result_list_sooth)\n",
    "result_arr_sooth[result_arr_sooth > 0.5] = 1\n",
    "result_arr_sooth[result_arr_sooth < 0.5] = 0"
   ]
  },
  {
   "cell_type": "code",
   "execution_count": 442,
   "id": "4943d65d",
   "metadata": {},
   "outputs": [
    {
     "data": {
      "text/plain": [
       "array([[454,  24],\n",
       "       [ 48,  53]])"
      ]
     },
     "execution_count": 442,
     "metadata": {},
     "output_type": "execute_result"
    }
   ],
   "source": [
    "confusion_matrix(y_test, result_arr_sooth)"
   ]
  },
  {
   "cell_type": "code",
   "execution_count": 443,
   "id": "ae3a4ca4",
   "metadata": {},
   "outputs": [
    {
     "name": "stdout",
     "output_type": "stream",
     "text": [
      "Precision:  0.6883116883116883\n",
      "Recall:  0.5247524752475248\n",
      "Accuracy:  0.8756476683937824\n"
     ]
    }
   ],
   "source": [
    "print('Precision: ',precision_score(y_test, result_arr_sooth))\n",
    "print('Recall: ',recall_score(y_test, result_arr_sooth))\n",
    "print('Accuracy: ',accuracy_score(y_test, result_arr_sooth))"
   ]
  },
  {
   "cell_type": "markdown",
   "id": "6fd3ee0e",
   "metadata": {},
   "source": [
    "15. (4pt) Comment on the results. Does smoothing improve the overall performance?"
   ]
  },
  {
   "cell_type": "markdown",
   "id": "bcb64495",
   "metadata": {},
   "source": [
    "There is no such difference in the performance after soothing but the probabilites look better for words like 'viagra' that had the probability of 1 for spam because of only 1 instance but now that is 0.66."
   ]
  }
 ],
 "metadata": {
  "kernelspec": {
   "display_name": "Python 3 (ipykernel)",
   "language": "python",
   "name": "python3"
  },
  "language_info": {
   "codemirror_mode": {
    "name": "ipython",
    "version": 3
   },
   "file_extension": ".py",
   "mimetype": "text/x-python",
   "name": "python",
   "nbconvert_exporter": "python",
   "pygments_lexer": "ipython3",
   "version": "3.9.7"
  }
 },
 "nbformat": 4,
 "nbformat_minor": 5
}
